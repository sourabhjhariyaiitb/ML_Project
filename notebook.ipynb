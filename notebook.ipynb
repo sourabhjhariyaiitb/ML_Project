{
  "cells": [
    {
      "cell_type": "code",
      "metadata": {
        "tags": [],
        "cell_id": "00000-f6bd4c4e-d9eb-4cc5-8fbf-eaa0f9ca3c93",
        "deepnote_to_be_reexecuted": false,
        "source_hash": "a547c8e1",
        "execution_millis": 13,
        "execution_start": 1616867502875,
        "deepnote_cell_type": "code"
      },
      "source": "print(\"helloworld merry christmas\")",
      "execution_count": 1,
      "outputs": [
        {
          "name": "stdout",
          "text": "helloworld merry christmas\n",
          "output_type": "stream"
        }
      ]
    },
    {
      "cell_type": "code",
      "source": "print(62+17)",
      "metadata": {
        "tags": [],
        "cell_id": "00001-9a9187b8-4d88-4b9e-b930-326043c02f54",
        "deepnote_to_be_reexecuted": false,
        "source_hash": "10e6cebb",
        "execution_millis": 48,
        "execution_start": 1616867502877,
        "deepnote_cell_type": "code"
      },
      "outputs": [
        {
          "name": "stdout",
          "text": "79\n",
          "output_type": "stream"
        }
      ],
      "execution_count": 2
    },
    {
      "cell_type": "code",
      "source": "print(\"this is awesome\")",
      "metadata": {
        "tags": [],
        "cell_id": "00002-f400c929-a92d-4e7d-bada-a6b70674c788",
        "deepnote_to_be_reexecuted": false,
        "source_hash": "baa561a6",
        "execution_millis": 6,
        "execution_start": 1616867502919,
        "deepnote_cell_type": "code"
      },
      "outputs": [
        {
          "name": "stdout",
          "text": "this is awesome\n",
          "output_type": "stream"
        }
      ],
      "execution_count": 3
    },
    {
      "cell_type": "code",
      "source": "3+5",
      "metadata": {
        "tags": [],
        "cell_id": "00003-dc5d76d2-071f-495c-b061-4bf3ac94d8a8",
        "deepnote_to_be_reexecuted": false,
        "source_hash": "b61a1939",
        "execution_millis": 99,
        "execution_start": 1616867502920,
        "deepnote_cell_type": "code"
      },
      "outputs": [
        {
          "output_type": "execute_result",
          "execution_count": 4,
          "data": {
            "text/plain": "8"
          },
          "metadata": {}
        }
      ],
      "execution_count": 4
    },
    {
      "cell_type": "code",
      "source": "import pandas as pd",
      "metadata": {
        "tags": [],
        "cell_id": "00004-1815c1ad-9620-4082-94de-4cd1a088a6a3",
        "deepnote_to_be_reexecuted": false,
        "source_hash": "9b82ee11",
        "execution_millis": 1,
        "execution_start": 1616867502962,
        "deepnote_cell_type": "code"
      },
      "outputs": [],
      "execution_count": 5
    },
    {
      "cell_type": "code",
      "source": "import numpy as np\nimport pandas as pd\nimport seaborn as sns\n",
      "metadata": {
        "tags": [],
        "cell_id": "00005-e5b32184-c007-4d15-8364-7d2158f3d784",
        "deepnote_to_be_reexecuted": false,
        "source_hash": "97e4a474",
        "execution_millis": 1524,
        "execution_start": 1616867502963,
        "deepnote_cell_type": "code"
      },
      "outputs": [],
      "execution_count": 6
    },
    {
      "cell_type": "code",
      "source": "\ndf = pd.read_csv('crop_recommendation.csv')\ndf.head()",
      "metadata": {
        "tags": [],
        "cell_id": "00006-7e6c2949-4e78-4d26-a2e1-b5d8b5ca3a3c",
        "deepnote_to_be_reexecuted": false,
        "source_hash": "cf002c83",
        "execution_millis": 133,
        "execution_start": 1616867504493,
        "deepnote_cell_type": "code"
      },
      "outputs": [
        {
          "output_type": "execute_result",
          "execution_count": 7,
          "data": {
            "application/vnd.deepnote.dataframe.v2+json": {
              "row_count": 5,
              "column_count": 8,
              "columns": [
                {
                  "name": "N",
                  "dtype": "int64",
                  "stats": {
                    "unique_count": 5,
                    "nan_count": 0,
                    "min": 60,
                    "max": 90,
                    "histogram": [
                      {
                        "bin_start": 60,
                        "bin_end": 63,
                        "count": 1
                      },
                      {
                        "bin_start": 63,
                        "bin_end": 66,
                        "count": 0
                      },
                      {
                        "bin_start": 66,
                        "bin_end": 69,
                        "count": 0
                      },
                      {
                        "bin_start": 69,
                        "bin_end": 72,
                        "count": 0
                      },
                      {
                        "bin_start": 72,
                        "bin_end": 75,
                        "count": 1
                      },
                      {
                        "bin_start": 75,
                        "bin_end": 78,
                        "count": 0
                      },
                      {
                        "bin_start": 78,
                        "bin_end": 81,
                        "count": 1
                      },
                      {
                        "bin_start": 81,
                        "bin_end": 84,
                        "count": 0
                      },
                      {
                        "bin_start": 84,
                        "bin_end": 87,
                        "count": 1
                      },
                      {
                        "bin_start": 87,
                        "bin_end": 90,
                        "count": 1
                      }
                    ]
                  }
                },
                {
                  "name": "P",
                  "dtype": "int64",
                  "stats": {
                    "unique_count": 4,
                    "nan_count": 0,
                    "min": 35,
                    "max": 58,
                    "histogram": [
                      {
                        "bin_start": 35,
                        "bin_end": 37.3,
                        "count": 1
                      },
                      {
                        "bin_start": 37.3,
                        "bin_end": 39.6,
                        "count": 0
                      },
                      {
                        "bin_start": 39.6,
                        "bin_end": 41.9,
                        "count": 0
                      },
                      {
                        "bin_start": 41.9,
                        "bin_end": 44.2,
                        "count": 2
                      },
                      {
                        "bin_start": 44.2,
                        "bin_end": 46.5,
                        "count": 0
                      },
                      {
                        "bin_start": 46.5,
                        "bin_end": 48.8,
                        "count": 0
                      },
                      {
                        "bin_start": 48.8,
                        "bin_end": 51.099999999999994,
                        "count": 0
                      },
                      {
                        "bin_start": 51.099999999999994,
                        "bin_end": 53.4,
                        "count": 0
                      },
                      {
                        "bin_start": 53.4,
                        "bin_end": 55.7,
                        "count": 1
                      },
                      {
                        "bin_start": 55.7,
                        "bin_end": 58,
                        "count": 1
                      }
                    ]
                  }
                },
                {
                  "name": "K",
                  "dtype": "int64",
                  "stats": {
                    "unique_count": 5,
                    "nan_count": 0,
                    "min": 40,
                    "max": 44,
                    "histogram": [
                      {
                        "bin_start": 40,
                        "bin_end": 40.4,
                        "count": 1
                      },
                      {
                        "bin_start": 40.4,
                        "bin_end": 40.8,
                        "count": 0
                      },
                      {
                        "bin_start": 40.8,
                        "bin_end": 41.2,
                        "count": 1
                      },
                      {
                        "bin_start": 41.2,
                        "bin_end": 41.6,
                        "count": 0
                      },
                      {
                        "bin_start": 41.6,
                        "bin_end": 42,
                        "count": 0
                      },
                      {
                        "bin_start": 42,
                        "bin_end": 42.4,
                        "count": 1
                      },
                      {
                        "bin_start": 42.4,
                        "bin_end": 42.8,
                        "count": 0
                      },
                      {
                        "bin_start": 42.8,
                        "bin_end": 43.2,
                        "count": 1
                      },
                      {
                        "bin_start": 43.2,
                        "bin_end": 43.6,
                        "count": 0
                      },
                      {
                        "bin_start": 43.6,
                        "bin_end": 44,
                        "count": 1
                      }
                    ]
                  }
                },
                {
                  "name": "temperature",
                  "dtype": "float64",
                  "stats": {
                    "unique_count": 5,
                    "nan_count": 0,
                    "min": 20.13017482,
                    "max": 26.49109635,
                    "histogram": [
                      {
                        "bin_start": 20.13017482,
                        "bin_end": 20.766266973,
                        "count": 1
                      },
                      {
                        "bin_start": 20.766266973,
                        "bin_end": 21.402359126,
                        "count": 1
                      },
                      {
                        "bin_start": 21.402359126,
                        "bin_end": 22.038451279,
                        "count": 1
                      },
                      {
                        "bin_start": 22.038451279,
                        "bin_end": 22.674543432,
                        "count": 0
                      },
                      {
                        "bin_start": 22.674543432,
                        "bin_end": 23.310635585,
                        "count": 1
                      },
                      {
                        "bin_start": 23.310635585,
                        "bin_end": 23.946727738,
                        "count": 0
                      },
                      {
                        "bin_start": 23.946727738,
                        "bin_end": 24.582819891,
                        "count": 0
                      },
                      {
                        "bin_start": 24.582819891,
                        "bin_end": 25.218912044,
                        "count": 0
                      },
                      {
                        "bin_start": 25.218912044,
                        "bin_end": 25.855004197,
                        "count": 0
                      },
                      {
                        "bin_start": 25.855004197,
                        "bin_end": 26.49109635,
                        "count": 1
                      }
                    ]
                  }
                },
                {
                  "name": "humidity",
                  "dtype": "float64",
                  "stats": {
                    "unique_count": 5,
                    "nan_count": 0,
                    "min": 80.15836264,
                    "max": 82.3207629,
                    "histogram": [
                      {
                        "bin_start": 80.15836264,
                        "bin_end": 80.374602666,
                        "count": 2
                      },
                      {
                        "bin_start": 80.374602666,
                        "bin_end": 80.59084269200001,
                        "count": 0
                      },
                      {
                        "bin_start": 80.59084269200001,
                        "bin_end": 80.807082718,
                        "count": 0
                      },
                      {
                        "bin_start": 80.807082718,
                        "bin_end": 81.02332274400001,
                        "count": 0
                      },
                      {
                        "bin_start": 81.02332274400001,
                        "bin_end": 81.23956277,
                        "count": 0
                      },
                      {
                        "bin_start": 81.23956277,
                        "bin_end": 81.455802796,
                        "count": 0
                      },
                      {
                        "bin_start": 81.455802796,
                        "bin_end": 81.67204282200001,
                        "count": 1
                      },
                      {
                        "bin_start": 81.67204282200001,
                        "bin_end": 81.888282848,
                        "count": 0
                      },
                      {
                        "bin_start": 81.888282848,
                        "bin_end": 82.10452287400001,
                        "count": 1
                      },
                      {
                        "bin_start": 82.10452287400001,
                        "bin_end": 82.3207629,
                        "count": 1
                      }
                    ]
                  }
                },
                {
                  "name": "ph",
                  "dtype": "float64",
                  "stats": {
                    "unique_count": 5,
                    "nan_count": 0,
                    "min": 6.502985292000001,
                    "max": 7.840207144,
                    "histogram": [
                      {
                        "bin_start": 6.502985292000001,
                        "bin_end": 6.636707477200001,
                        "count": 1
                      },
                      {
                        "bin_start": 6.636707477200001,
                        "bin_end": 6.770429662400001,
                        "count": 0
                      },
                      {
                        "bin_start": 6.770429662400001,
                        "bin_end": 6.904151847600001,
                        "count": 0
                      },
                      {
                        "bin_start": 6.904151847600001,
                        "bin_end": 7.0378740328000005,
                        "count": 1
                      },
                      {
                        "bin_start": 7.0378740328000005,
                        "bin_end": 7.171596218,
                        "count": 1
                      },
                      {
                        "bin_start": 7.171596218,
                        "bin_end": 7.3053184032,
                        "count": 0
                      },
                      {
                        "bin_start": 7.3053184032,
                        "bin_end": 7.4390405884,
                        "count": 0
                      },
                      {
                        "bin_start": 7.4390405884,
                        "bin_end": 7.5727627736,
                        "count": 0
                      },
                      {
                        "bin_start": 7.5727627736,
                        "bin_end": 7.7064849588,
                        "count": 1
                      },
                      {
                        "bin_start": 7.7064849588,
                        "bin_end": 7.840207144,
                        "count": 1
                      }
                    ]
                  }
                },
                {
                  "name": "rainfall",
                  "dtype": "float64",
                  "stats": {
                    "unique_count": 5,
                    "nan_count": 0,
                    "min": 202.9355362,
                    "max": 263.9642476,
                    "histogram": [
                      {
                        "bin_start": 202.9355362,
                        "bin_end": 209.03840734,
                        "count": 1
                      },
                      {
                        "bin_start": 209.03840734,
                        "bin_end": 215.14127848,
                        "count": 0
                      },
                      {
                        "bin_start": 215.14127848,
                        "bin_end": 221.24414962,
                        "count": 0
                      },
                      {
                        "bin_start": 221.24414962,
                        "bin_end": 227.34702076000002,
                        "count": 1
                      },
                      {
                        "bin_start": 227.34702076000002,
                        "bin_end": 233.4498919,
                        "count": 0
                      },
                      {
                        "bin_start": 233.4498919,
                        "bin_end": 239.55276304,
                        "count": 0
                      },
                      {
                        "bin_start": 239.55276304,
                        "bin_end": 245.65563418000002,
                        "count": 1
                      },
                      {
                        "bin_start": 245.65563418000002,
                        "bin_end": 251.75850532,
                        "count": 0
                      },
                      {
                        "bin_start": 251.75850532,
                        "bin_end": 257.86137646000003,
                        "count": 0
                      },
                      {
                        "bin_start": 257.86137646000003,
                        "bin_end": 263.9642476,
                        "count": 2
                      }
                    ]
                  }
                },
                {
                  "name": "label",
                  "dtype": "object",
                  "stats": {
                    "unique_count": 1,
                    "nan_count": 0,
                    "categories": [
                      {
                        "name": "rice",
                        "count": 5
                      }
                    ]
                  }
                },
                {
                  "name": "_deepnote_index_column",
                  "dtype": "int64"
                }
              ],
              "rows_top": [
                {
                  "N": 90,
                  "P": 42,
                  "K": 43,
                  "temperature": 20.87974371,
                  "humidity": 82.00274423,
                  "ph": 6.502985292000001,
                  "rainfall": 202.9355362,
                  "label": "rice",
                  "_deepnote_index_column": 0
                },
                {
                  "N": 85,
                  "P": 58,
                  "K": 41,
                  "temperature": 21.77046169,
                  "humidity": 80.31964408,
                  "ph": 7.038096361,
                  "rainfall": 226.6555374,
                  "label": "rice",
                  "_deepnote_index_column": 1
                },
                {
                  "N": 60,
                  "P": 55,
                  "K": 44,
                  "temperature": 23.00445915,
                  "humidity": 82.3207629,
                  "ph": 7.840207144,
                  "rainfall": 263.9642476,
                  "label": "rice",
                  "_deepnote_index_column": 2
                },
                {
                  "N": 74,
                  "P": 35,
                  "K": 40,
                  "temperature": 26.49109635,
                  "humidity": 80.15836264,
                  "ph": 6.980400905,
                  "rainfall": 242.8640342,
                  "label": "rice",
                  "_deepnote_index_column": 3
                },
                {
                  "N": 78,
                  "P": 42,
                  "K": 42,
                  "temperature": 20.13017482,
                  "humidity": 81.60487287,
                  "ph": 7.628472891,
                  "rainfall": 262.7173405,
                  "label": "rice",
                  "_deepnote_index_column": 4
                }
              ],
              "rows_bottom": null
            },
            "text/plain": "    N   P   K  temperature   humidity        ph    rainfall label\n0  90  42  43    20.879744  82.002744  6.502985  202.935536  rice\n1  85  58  41    21.770462  80.319644  7.038096  226.655537  rice\n2  60  55  44    23.004459  82.320763  7.840207  263.964248  rice\n3  74  35  40    26.491096  80.158363  6.980401  242.864034  rice\n4  78  42  42    20.130175  81.604873  7.628473  262.717340  rice",
            "text/html": "<div>\n<style scoped>\n    .dataframe tbody tr th:only-of-type {\n        vertical-align: middle;\n    }\n\n    .dataframe tbody tr th {\n        vertical-align: top;\n    }\n\n    .dataframe thead th {\n        text-align: right;\n    }\n</style>\n<table border=\"1\" class=\"dataframe\">\n  <thead>\n    <tr style=\"text-align: right;\">\n      <th></th>\n      <th>N</th>\n      <th>P</th>\n      <th>K</th>\n      <th>temperature</th>\n      <th>humidity</th>\n      <th>ph</th>\n      <th>rainfall</th>\n      <th>label</th>\n    </tr>\n  </thead>\n  <tbody>\n    <tr>\n      <th>0</th>\n      <td>90</td>\n      <td>42</td>\n      <td>43</td>\n      <td>20.879744</td>\n      <td>82.002744</td>\n      <td>6.502985</td>\n      <td>202.935536</td>\n      <td>rice</td>\n    </tr>\n    <tr>\n      <th>1</th>\n      <td>85</td>\n      <td>58</td>\n      <td>41</td>\n      <td>21.770462</td>\n      <td>80.319644</td>\n      <td>7.038096</td>\n      <td>226.655537</td>\n      <td>rice</td>\n    </tr>\n    <tr>\n      <th>2</th>\n      <td>60</td>\n      <td>55</td>\n      <td>44</td>\n      <td>23.004459</td>\n      <td>82.320763</td>\n      <td>7.840207</td>\n      <td>263.964248</td>\n      <td>rice</td>\n    </tr>\n    <tr>\n      <th>3</th>\n      <td>74</td>\n      <td>35</td>\n      <td>40</td>\n      <td>26.491096</td>\n      <td>80.158363</td>\n      <td>6.980401</td>\n      <td>242.864034</td>\n      <td>rice</td>\n    </tr>\n    <tr>\n      <th>4</th>\n      <td>78</td>\n      <td>42</td>\n      <td>42</td>\n      <td>20.130175</td>\n      <td>81.604873</td>\n      <td>7.628473</td>\n      <td>262.717340</td>\n      <td>rice</td>\n    </tr>\n  </tbody>\n</table>\n</div>"
          },
          "metadata": {}
        }
      ],
      "execution_count": 7
    },
    {
      "cell_type": "code",
      "source": "print(\"test\")",
      "metadata": {
        "tags": [],
        "cell_id": "00007-ba9069df-a77a-4713-8f7a-2e06b689634b",
        "deepnote_to_be_reexecuted": false,
        "source_hash": "382ebda2",
        "execution_start": 1616867563192,
        "execution_millis": 13,
        "deepnote_cell_type": "code"
      },
      "outputs": [
        {
          "name": "stdout",
          "text": "test\n",
          "output_type": "stream"
        }
      ],
      "execution_count": 8
    },
    {
      "cell_type": "markdown",
      "source": "<a style='text-decoration:none;line-height:16px;display:flex;color:#5B5B62;padding:10px;justify-content:end;' href='https://deepnote.com?utm_source=created-in-deepnote-cell&projectId=4d8b1116-305d-4f83-bbb5-bb794ff1274a' target=\"_blank\">\n<img style='display:inline;max-height:16px;margin:0px;margin-right:7.5px;' src='data:image/svg+xml;base64,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' > </img>\nCreated in <span style='font-weight:600;margin-left:4px;'>Deepnote</span></a>",
      "metadata": {
        "tags": [],
        "created_in_deepnote_cell": true,
        "deepnote_cell_type": "markdown"
      }
    }
  ],
  "nbformat": 4,
  "nbformat_minor": 2,
  "metadata": {
    "orig_nbformat": 2,
    "deepnote_notebook_id": "f03e841d-1e09-437d-b330-408010da1e41",
    "deepnote": {},
    "deepnote_execution_queue": []
  }
}